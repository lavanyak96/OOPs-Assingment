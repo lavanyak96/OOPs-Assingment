{
 "cells": [
  {
   "cell_type": "markdown",
   "id": "5ec3257f-6db3-424a-a05a-2e69fc508a75",
   "metadata": {},
   "source": [
    "Q1. Explain Class and Object with respect to Object-Oriented Programming. Give a suitable example."
   ]
  },
  {
   "cell_type": "markdown",
   "id": "e0263359-1d85-4bf3-bc56-ea764f6aeb2b",
   "metadata": {},
   "source": [
    "Class:\n",
    "A class is like a blueprint that describes how objects should be created, what data they can hold, and what actions they can perform.\n",
    "It acts as a template that you can use to create multiple objects with similar characteristics and behaviors.\n",
    "\n",
    "Object:\n",
    "An object is an instance of a class. It is a real, tangible entity created from the blueprint defined by the class.\n",
    "Objects have their own unique data and state, but they share the same structure and behavior defined in the class."
   ]
  },
  {
   "cell_type": "code",
   "execution_count": 1,
   "id": "8ce78331-0d75-482d-8b50-44f368b21a31",
   "metadata": {},
   "outputs": [
    {
     "name": "stdout",
     "output_type": "stream",
     "text": [
      "The 2023 Toyota Camry is now running.\n",
      "The 2022 Ford Mustang is now running.\n",
      "The 2023 Toyota Camry has stopped.\n",
      "Car 1: 2023 Toyota Camry\n",
      "Car 2: 2022 Ford Mustang\n"
     ]
    }
   ],
   "source": [
    "#creating class\n",
    "class Car:\n",
    "\n",
    "    def __init__(self, make, model, year):\n",
    "        self.make = make         \n",
    "        self.model = model       \n",
    "        self.year = year         \n",
    "        self.is_running = False  \n",
    "\n",
    "    def start(self):\n",
    "        self.is_running = True\n",
    "        print(f\"The {self.year} {self.make} {self.model} is now running.\")\n",
    "\n",
    "    def stop(self):\n",
    "        self.is_running = False\n",
    "        print(f\"The {self.year} {self.make} {self.model} has stopped.\")\n",
    "        \n",
    "#creating objects\n",
    "car1 = Car(\"Toyota\", \"Camry\", 2023)\n",
    "car2 = Car(\"Ford\", \"Mustang\", 2022)\n",
    "\n",
    "car1.start()\n",
    "car2.start()  \n",
    "\n",
    "car1.stop() \n",
    "\n",
    "print(f\"Car 1: {car1.year} {car1.make} {car1.model}\")\n",
    "print(f\"Car 2: {car2.year} {car2.make} {car2.model}\")\n"
   ]
  },
  {
   "cell_type": "markdown",
   "id": "2cc3ceb7-09b7-42db-984b-f7fc381e915a",
   "metadata": {},
   "source": [
    "In this example, we define a Car class with attributes like make, model, year, and a couple of methods (start and stop).\n",
    "We then create two Car objects, car1 and car2, each representing a specific car with its own characteristics. \n",
    "We can start and stop each car and access their attributes individually, demonstrating the use of classes and objects in OOP."
   ]
  },
  {
   "cell_type": "markdown",
   "id": "f1679c91-05f1-4f1a-b0bc-83be6ffd4900",
   "metadata": {},
   "source": [
    "  "
   ]
  },
  {
   "cell_type": "markdown",
   "id": "74b642e3-f845-4ab1-bf75-b487c7567731",
   "metadata": {},
   "source": [
    "Q2. Name the four pillars of OOPs."
   ]
  },
  {
   "cell_type": "markdown",
   "id": "d15c48ea-101d-4f70-8353-b980392972c0",
   "metadata": {},
   "source": [
    "The four pillars of Object-Oriented Programming (OOP) are:\n",
    "\n",
    "Encapsulation: Encapsulation involves bundling the data (attributes) and the methods (functions) that operate on the data into a single unit called a class. It restricts access to some of the object's components, providing data hiding and protecting the integrity of the data.\n",
    "\n",
    "Abstraction: Abstraction is the process of simplifying complex systems by breaking them into smaller, more manageable parts. In OOP, abstraction allows you to hide the unnecessary details of an object and only expose the essential features. It focuses on what an object does rather than how it does it.\n",
    "\n",
    "Inheritance: Inheritance allows you to create a new class by inheriting properties and behaviors from an existing class. It promotes code reusability and establishes a parent-child relationship between classes. Subclasses inherit attributes and methods from their parent class.\n",
    "\n",
    "Polymorphism: Polymorphism enables objects of different classes to be treated as objects of a common superclass. This allows for flexibility in coding and enables the use of methods that can work with objects of different types. Polymorphism includes concepts like method overriding and method overloading.\n",
    "\n",
    "These four pillars provide a foundation for designing and building object-oriented software systems by promoting principles such as code reusability, modularity, and maintainability."
   ]
  },
  {
   "cell_type": "markdown",
   "id": "734873ea-5794-4940-8634-1daf8c64c58b",
   "metadata": {},
   "source": [
    "  "
   ]
  },
  {
   "cell_type": "markdown",
   "id": "97ad26f2-b3a2-4222-a890-b23d91caf7af",
   "metadata": {},
   "source": [
    "Q3. Explain why the __init__() function is used. Give a suitable example."
   ]
  },
  {
   "cell_type": "markdown",
   "id": "c3b5cc19-f575-4da3-b5e2-13aec98c66a7",
   "metadata": {},
   "source": [
    "The __init__() function is used in Python to initialize the attributes of an object when an instance of a class is created.\n",
    "It is a special method known as the constructor and is automatically called when you create a new object from a class.\n",
    "The primary purpose of __init__() is to set up the initial state of the object by assigning values to its attributes."
   ]
  },
  {
   "cell_type": "markdown",
   "id": "dce705c2-6472-49d5-942e-23610a0ad4d1",
   "metadata": {},
   "source": [
    "   "
   ]
  },
  {
   "cell_type": "markdown",
   "id": "efa56e83-b779-4b46-9a8c-3310a6bfcb5c",
   "metadata": {},
   "source": [
    "Q4. Why self is used in OOPs?"
   ]
  },
  {
   "cell_type": "markdown",
   "id": "e6fe96f0-f343-429e-87f3-1aad8bfda3f5",
   "metadata": {},
   "source": [
    "In OOPs in Python , self is used to represent the instance of a class within the methods of that class.\n",
    "It is a reference to the current object being operated upon. "
   ]
  },
  {
   "cell_type": "markdown",
   "id": "149789c8-635f-4450-992b-a643fb45cbf5",
   "metadata": {},
   "source": [
    "  "
   ]
  },
  {
   "cell_type": "markdown",
   "id": "44cfbe82-c5a2-4674-9aeb-371b4a470303",
   "metadata": {},
   "source": [
    "Q5. What is inheritance? Give an example for each type of inheritance."
   ]
  },
  {
   "cell_type": "markdown",
   "id": "45e7dcae-67aa-4b5a-b025-1329a97db40b",
   "metadata": {},
   "source": [
    "Inheritance is one of the four fundamental concepts in Object-Oriented Programming (OOP).\n",
    "It is a mechanism that allows you to create a new class (called the derived or subclass) by inheriting properties and behaviors from an existing class (called the base or superclass).\n",
    "Inheritance promotes code reuse and establishes a parent-child relationship between classes."
   ]
  },
  {
   "cell_type": "markdown",
   "id": "46bcca22-d67c-47f1-81d9-f1840b774123",
   "metadata": {},
   "source": [
    "1.Single Inheritance: In single inheritance, a class inherits from only one base class. This is the simplest form of inheritance.\n",
    "\n",
    "Example:"
   ]
  },
  {
   "cell_type": "code",
   "execution_count": 3,
   "id": "21987fa9-4d7f-431f-b70c-e8eb89523955",
   "metadata": {},
   "outputs": [
    {
     "name": "stdout",
     "output_type": "stream",
     "text": [
      "Woof!\n"
     ]
    }
   ],
   "source": [
    "class Dog(Animal):\n",
    "    def speak(self):\n",
    "        return \"Woof!\"\n",
    "\n",
    "dog = Dog()\n",
    "print(dog.speak())"
   ]
  },
  {
   "cell_type": "markdown",
   "id": "ccbfa150-a479-4245-877d-72a998050343",
   "metadata": {},
   "source": [
    "2.Multiple Inheritance: In multiple inheritance, a class can inherit from more than one base class. This allows a subclass to inherit properties and behaviors from multiple parent classes.\n",
    "\n",
    "Example:"
   ]
  },
  {
   "cell_type": "code",
   "execution_count": 5,
   "id": "bc507fcf-f43c-465e-9e57-02fa212a0ed0",
   "metadata": {},
   "outputs": [],
   "source": [
    "class A:\n",
    "    def method_A(self):\n",
    "        pass\n",
    "\n",
    "class B:\n",
    "    def method_B(self):\n",
    "        pass\n",
    "\n",
    "class C(A, B):\n",
    "    def method_C(self):\n",
    "        pass\n",
    "\n",
    "obj = C()\n",
    "obj.method_A()\n",
    "obj.method_B()\n",
    "obj.method_C()"
   ]
  },
  {
   "cell_type": "markdown",
   "id": "735f7064-a10d-4c96-accd-bdc75167fe8b",
   "metadata": {},
   "source": [
    "3.Multilevel Inheritance: In multilevel inheritance, a class inherits from a base class, and another class inherits from the derived class. This creates a chain of inheritance.\n",
    "\n",
    "Example:"
   ]
  },
  {
   "cell_type": "code",
   "execution_count": 6,
   "id": "8b07080e-2c4a-40b9-849e-c81f0eb0230f",
   "metadata": {},
   "outputs": [],
   "source": [
    "class Grandparent:\n",
    "    def grandparent_method(self):\n",
    "        pass\n",
    "\n",
    "class Parent(Grandparent):\n",
    "    def parent_method(self):\n",
    "        pass\n",
    "\n",
    "class Child(Parent):\n",
    "    def child_method(self):\n",
    "        pass\n",
    "\n",
    "child = Child()\n",
    "child.grandparent_method()\n",
    "child.parent_method()\n",
    "child.child_method()"
   ]
  },
  {
   "cell_type": "markdown",
   "id": "61731388-9970-4215-bd69-7429f57a1d41",
   "metadata": {},
   "source": [
    "4.Hierarchical Inheritance: In hierarchical inheritance, multiple subclasses inherit from a single base class.\n",
    "\n",
    "Example:"
   ]
  },
  {
   "cell_type": "code",
   "execution_count": null,
   "id": "6bc3f8cf-2bd1-4878-896e-413c0ea156f7",
   "metadata": {},
   "outputs": [],
   "source": [
    "class Shape:\n",
    "    def area(self):\n",
    "        pass\n",
    "\n",
    "class Circle(Shape):\n",
    "    def area(self):\n",
    "        pass\n",
    "\n",
    "class Rectangle(Shape):\n",
    "    def area(self):\n",
    "        pass\n",
    "\n",
    "circle = Circle()\n",
    "rectangle = Rectangle()"
   ]
  },
  {
   "cell_type": "markdown",
   "id": "35e818ca-6c83-4416-928b-d7bbac800659",
   "metadata": {},
   "source": [
    "5.Hybrid Inheritance: Hybrid inheritance is a combination of different types of inheritance within a single program.\n",
    "\n",
    "Example:"
   ]
  },
  {
   "cell_type": "code",
   "execution_count": 7,
   "id": "4cf6ccea-12c3-48c2-979f-f1af13cadc02",
   "metadata": {},
   "outputs": [],
   "source": [
    "class A:\n",
    "    pass\n",
    "\n",
    "class B(A):\n",
    "    pass\n",
    "\n",
    "class C(A):\n",
    "    pass\n",
    "\n",
    "class D(B, C):\n",
    "    pass\n"
   ]
  }
 ],
 "metadata": {
  "kernelspec": {
   "display_name": "Python 3 (ipykernel)",
   "language": "python",
   "name": "python3"
  },
  "language_info": {
   "codemirror_mode": {
    "name": "ipython",
    "version": 3
   },
   "file_extension": ".py",
   "mimetype": "text/x-python",
   "name": "python",
   "nbconvert_exporter": "python",
   "pygments_lexer": "ipython3",
   "version": "3.10.8"
  }
 },
 "nbformat": 4,
 "nbformat_minor": 5
}
