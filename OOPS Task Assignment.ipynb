{
 "cells": [
  {
   "cell_type": "markdown",
   "id": "85bac53e-3e4f-46fe-bde4-a666dc77250c",
   "metadata": {},
   "source": [
    "Q1. Create a vehicle class with an init method having instance variables as name_of_vehicle, max_speed\n",
    "and average_of_vehicle."
   ]
  },
  {
   "cell_type": "code",
   "execution_count": 5,
   "id": "a4703de3-6744-460b-9e56-e66d2525b63a",
   "metadata": {},
   "outputs": [
    {
     "name": "stdout",
     "output_type": "stream",
     "text": [
      "Car\n",
      "Max Speed: 200 km/h\n",
      "Average of vehicle: 80 km/h\n",
      "\n",
      "Bike\n",
      "Max Speed: 120 km/h\n",
      "Average of vehicle: 40 km/h\n"
     ]
    }
   ],
   "source": [
    "class vehicle:\n",
    "    def __init__(self,name_of_vehicle, max_speed,average_of_vehicle):\n",
    "        self.name_of_vehicle = name_of_vehicle\n",
    "        self.max_speed = max_speed\n",
    "        self.average_of_vehicle = average_of_vehicle\n",
    "        \n",
    "car = vehicle(\"Car\", 200, 80)\n",
    "bike = vehicle(\"Bike\", 120, 40)\n",
    "\n",
    "print(f\"{car.name_of_vehicle}\")\n",
    "print(f\"Max Speed: {car.max_speed} km/h\")\n",
    "print(f\"Average of vehicle: {car.average_of_vehicle} km/h\")\n",
    "\n",
    "print(f\"\\n{bike.name_of_vehicle}\")\n",
    "print(f\"Max Speed: {bike.max_speed} km/h\")\n",
    "print(f\"Average of vehicle: {bike.average_of_vehicle} km/h\")"
   ]
  },
  {
   "cell_type": "markdown",
   "id": "29b28ac2-cefb-4eb2-9fbc-5c1d50f81510",
   "metadata": {},
   "source": [
    "Q2. Create a child class car from the vehicle class created in Que 1, which will inherit the vehicle class.\n",
    "Create a method named seating_capacity which takes capacity as an argument and returns the name of\n",
    "the vehicle and its seating capacity."
   ]
  },
  {
   "cell_type": "code",
   "execution_count": 14,
   "id": "c8fe0b28-33c1-4bcd-8f05-6dedb89bda6f",
   "metadata": {},
   "outputs": [
    {
     "name": "stdout",
     "output_type": "stream",
     "text": [
      "Car\n",
      "Max Speed: 200 km/h\n",
      "Average  of vehicle: 80 km/h\n",
      "Car has a seating capacity of 4 passengers.\n"
     ]
    }
   ],
   "source": [
    "class vehicle:\n",
    "    def __init__(self,name_of_vehicle, max_speed,average_of_vehicle):\n",
    "        self.name_of_vehicle = name_of_vehicle\n",
    "        self.max_speed = max_speed\n",
    "        self.average_of_vehicle = average_of_vehicle\n",
    "        \n",
    "class car(vehicle):\n",
    "    \n",
    "    def seating_capacity(self,capacity):\n",
    "        return f\"{self.name_of_vehicle} has a seating capacity of {capacity} passengers.\"\n",
    "        \n",
    "obj = car(\"Car\", 200, 80)\n",
    "capacity = 4\n",
    "\n",
    "print(f\"{obj.name_of_vehicle}\")\n",
    "print(f\"Max Speed: {obj.max_speed} km/h\")\n",
    "print(f\"Average  of vehicle: {obj.average_of_vehicle} km/h\")\n",
    "print(obj.seating_capacity(capacity))"
   ]
  },
  {
   "cell_type": "markdown",
   "id": "03f9260a-a5a2-47b3-9e4f-1f20e4e00f4f",
   "metadata": {},
   "source": [
    "  "
   ]
  },
  {
   "cell_type": "markdown",
   "id": "85143b70-11bf-46be-989d-e9c487018d74",
   "metadata": {},
   "source": [
    "Q3. What is multiple inheritance? Write a python code to demonstrate multiple inheritance."
   ]
  },
  {
   "cell_type": "markdown",
   "id": "0c96f20b-b71b-473e-8f6a-ec24b05a2c8e",
   "metadata": {},
   "source": [
    "Multiple Inheritance: In multiple inheritance, a class can inherit from more than one base class. This allows a subclass to inherit properties and behaviors from multiple parent classes."
   ]
  },
  {
   "cell_type": "code",
   "execution_count": null,
   "id": "121b3815-7251-4618-aef3-8e64e737d02c",
   "metadata": {},
   "outputs": [],
   "source": [
    "class A:\n",
    "    def method_A(self):\n",
    "        pass\n",
    "\n",
    "class B:\n",
    "    def method_B(self):\n",
    "        pass\n",
    "\n",
    "class C(A, B):\n",
    "    def method_C(self):\n",
    "        pass\n",
    "\n",
    "obj = C()\n",
    "obj.method_A()\n",
    "obj.method_B()\n",
    "obj.method_C()"
   ]
  },
  {
   "cell_type": "markdown",
   "id": "520bceb7-5013-447e-b947-99ec3c21d1f3",
   "metadata": {},
   "source": [
    "   "
   ]
  },
  {
   "cell_type": "markdown",
   "id": "ea3e7fe4-ca2a-4dd7-a623-df4ef5ab2114",
   "metadata": {},
   "source": [
    "Q4. What are getter and setter in python? Create a class and create a getter and a setter method in this\n",
    "class."
   ]
  },
  {
   "cell_type": "markdown",
   "id": "1cbf78b6-75dc-4a23-972a-52e2a814dfa1",
   "metadata": {},
   "source": [
    "In Python, getters and setters are methods used to access and modify the attributes (instance variables) of a class while controlling the access and manipulation of those attributes.\n",
    "They provide an additional layer of encapsulation by allowing you to define custom behavior when getting or setting the values of attributes"
   ]
  },
  {
   "cell_type": "code",
   "execution_count": 15,
   "id": "564e41e5-896e-46bc-b619-ac136fdab825",
   "metadata": {},
   "outputs": [
    {
     "name": "stdout",
     "output_type": "stream",
     "text": [
      "Student Name: Alice\n",
      "Student Age: 20\n",
      "Updated Student Name: Bob\n",
      "Updated Student Age: 22\n"
     ]
    }
   ],
   "source": [
    "class Student:\n",
    "    def __init__(self, name, age):\n",
    "        self._name = name \n",
    "        self._age = age\n",
    "\n",
    "    # Getter method for 'name'\n",
    "    def get_name(self):\n",
    "        return self._name\n",
    "\n",
    "    # Setter method for 'name'\n",
    "    def set_name(self, name):\n",
    "        if isinstance(name, str):\n",
    "            self._name = name\n",
    "        else:\n",
    "            print(\"Invalid input. Name must be a string.\")\n",
    "\n",
    "    # Getter method for 'age'\n",
    "    def get_age(self):\n",
    "        return self._age\n",
    "\n",
    "    # Setter method for 'age'\n",
    "    def set_age(self, age):\n",
    "        if isinstance(age, int) and age >= 0:\n",
    "            self._age = age\n",
    "        else:\n",
    "            print(\"Invalid input. Age must be a non-negative integer.\")\n",
    "\n",
    "            \n",
    "student1 = Student(\"Alice\", 20)\n",
    "\n",
    "# Using getter methods to access attributes\n",
    "print(\"Student Name:\", student1.get_name()) \n",
    "print(\"Student Age:\", student1.get_age())  \n",
    "\n",
    "# Using setter methods to modify attributes\n",
    "student1.set_name(\"Bob\") \n",
    "student1.set_age(22)  \n",
    "\n",
    "# Accessing modified attributes\n",
    "print(\"Updated Student Name:\", student1.get_name())\n",
    "print(\"Updated Student Age:\", student1.get_age())"
   ]
  },
  {
   "cell_type": "markdown",
   "id": "4ab9bce4-e623-4faf-9553-056d9fb0ddfd",
   "metadata": {},
   "source": [
    "  "
   ]
  },
  {
   "cell_type": "markdown",
   "id": "e9ab298a-c912-4393-958d-516562bb04ba",
   "metadata": {},
   "source": [
    "Q5.What is method overriding in python? Write a python code to demonstrate method overriding."
   ]
  },
  {
   "cell_type": "markdown",
   "id": "ce1e8ec5-be38-46cb-ade3-5c9a0c23296b",
   "metadata": {},
   "source": [
    "Method overriding in Python is a feature of OOPs, that allows a subclass to provide a specific implementation for a method that is already defined in its parent class.\n",
    "When a method is overridden in the subclass, the subclass's implementation takes precedence when the method is called on objects of the subclass.\n",
    "Method overriding is commonly used to provide specialized behavior in a subclass while maintaining the same method signature as the parent class."
   ]
  },
  {
   "cell_type": "code",
   "execution_count": 16,
   "id": "8529f630-fabd-48e6-ae06-573261efa887",
   "metadata": {},
   "outputs": [
    {
     "name": "stdout",
     "output_type": "stream",
     "text": [
      "Animal makes a sound\n",
      "Dog barks\n",
      "Cat meows\n"
     ]
    }
   ],
   "source": [
    "class Animal:\n",
    "    def speak(self):\n",
    "        print(\"Animal makes a sound\")\n",
    "\n",
    "class Dog(Animal):\n",
    "    def speak(self):\n",
    "        print(\"Dog barks\")\n",
    "\n",
    "class Cat(Animal):\n",
    "    def speak(self):\n",
    "        print(\"Cat meows\")\n",
    "\n",
    "# Create instances of the classes\n",
    "animal = Animal()\n",
    "dog = Dog()\n",
    "cat = Cat()\n",
    "\n",
    "# Call the 'speak' method on each object\n",
    "animal.speak() \n",
    "dog.speak() \n",
    "cat.speak()"
   ]
  }
 ],
 "metadata": {
  "kernelspec": {
   "display_name": "Python 3 (ipykernel)",
   "language": "python",
   "name": "python3"
  },
  "language_info": {
   "codemirror_mode": {
    "name": "ipython",
    "version": 3
   },
   "file_extension": ".py",
   "mimetype": "text/x-python",
   "name": "python",
   "nbconvert_exporter": "python",
   "pygments_lexer": "ipython3",
   "version": "3.10.8"
  }
 },
 "nbformat": 4,
 "nbformat_minor": 5
}
